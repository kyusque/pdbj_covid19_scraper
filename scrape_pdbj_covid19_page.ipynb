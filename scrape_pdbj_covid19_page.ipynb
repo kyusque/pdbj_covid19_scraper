{
 "cells": [
  {
   "cell_type": "code",
   "execution_count": 33,
   "metadata": {},
   "outputs": [],
   "source": [
    "from ipython2cwl.iotypes import CWLFilePathInput, CWLStringInput, CWLFilePathOutput"
   ]
  },
  {
   "cell_type": "code",
   "execution_count": 35,
   "metadata": {},
   "outputs": [
    {
     "output_type": "stream",
     "name": "stdout",
     "text": [
      "Collecting chromedriver-binary~=86.0.4240.22\n",
      "  Downloading chromedriver-binary-86.0.4240.22.0.tar.gz (3.6 kB)\n",
      "Building wheels for collected packages: chromedriver-binary\n",
      "  Building wheel for chromedriver-binary (setup.py) ... \u001b[?25ldone\n",
      "\u001b[?25h  Created wheel for chromedriver-binary: filename=chromedriver_binary-86.0.4240.22.0-py3-none-any.whl size=7804685 sha256=ad8148ce451d7d609e1211f5245fc8737ee0867bea4b62918c372420922ed243\n",
      "  Stored in directory: /Users/kawashima/Library/Caches/pip/wheels/82/87/41/90a8da305176a7cf8bfa4be0787159c7405f59fbe1dbad3c8b\n",
      "Successfully built chromedriver-binary\n",
      "Installing collected packages: chromedriver-binary\n",
      "  Attempting uninstall: chromedriver-binary\n",
      "    Found existing installation: chromedriver-binary 87.0.4280.20.0\n",
      "    Uninstalling chromedriver-binary-87.0.4280.20.0:\n",
      "      Successfully uninstalled chromedriver-binary-87.0.4280.20.0\n",
      "Successfully installed chromedriver-binary-86.0.4240.22.0\n"
     ]
    }
   ],
   "source": [
    "# http://chromedriver.chromium.org/downloads を参考にインストールされるgoogle chromeのバージョンに対応するdriverのバージョンに適宜修正してください\n",
    "driver_version: CWLStringInput = \"86.0.4240.22\"\n",
    "!pip install chromedriver-binary~=$driver_version"
   ]
  },
  {
   "cell_type": "code",
   "execution_count": 37,
   "metadata": {},
   "outputs": [],
   "source": [
    "import os\n",
    "import datetime\n",
    "from enum import Enum\n",
    "\n",
    "from selenium import webdriver\n",
    "from selenium.webdriver.support.ui import WebDriverWait\n",
    "from selenium.webdriver.support import expected_conditions as EC\n",
    "from selenium.webdriver.common.by import By\n",
    "from selenium.webdriver.common.action_chains import ActionChains\n",
    "import chromedriver_binary"
   ]
  },
  {
   "cell_type": "code",
   "execution_count": 38,
   "metadata": {},
   "outputs": [],
   "source": [
    "driver = webdriver.Chrome()"
   ]
  },
  {
   "cell_type": "code",
   "execution_count": 39,
   "metadata": {},
   "outputs": [
    {
     "output_type": "execute_result",
     "data": {
      "text/plain": [
       "'20201019'"
      ]
     },
     "metadata": {},
     "execution_count": 39
    }
   ],
   "source": [
    "# 保存ディレクトリ(デフォルトは日付)\n",
    "outdir: CWLFilePathInput = datetime.date.strftime(datetime.date.today(), \"%Y%m%d\")\n",
    "outdir"
   ]
  },
  {
   "cell_type": "code",
   "execution_count": 40,
   "metadata": {},
   "outputs": [],
   "source": [
    "url: CWLStringInput = \"https://pdbj.org/featured/covid-19\"\n",
    "driver.get(url)"
   ]
  },
  {
   "cell_type": "code",
   "execution_count": 42,
   "metadata": {},
   "outputs": [],
   "source": [
    "class Page(Enum):\n",
    "    ALL = 1\n",
    "    REPR = 2\n",
    "    LATEST = 3\n",
    "\n",
    "def move_page(driver, target: Page):\n",
    "    if target == Page.ALL:\n",
    "        element = driver.find_element_by_xpath('/html/body/div[2]/div[1]/div/div[2]/span[1]')\n",
    "    if target == Page.REPR:\n",
    "        element = driver.find_element_by_xpath('/html/body/div[2]/div[1]/div/div[2]/span[2]')\n",
    "    if target == Page.LATEST:\n",
    "        element = driver.find_element_by_xpath('/html/body/div[2]/div[1]/div/div[2]/span[3]')\n",
    "    loc = element.location.values()\n",
    "    actions = ActionChains(driver)\n",
    "    element.location_once_scrolled_into_view\n",
    "    actions.move_to_element(element)\n",
    "    actions.click()\n",
    "    actions.perform()"
   ]
  },
  {
   "cell_type": "code",
   "execution_count": 44,
   "metadata": {},
   "outputs": [],
   "source": [
    "os.makedirs( os.path.join(outdir, \"all\"), exist_ok=True)\n",
    "\n",
    "i = 1\n",
    "\n",
    "move_page(driver, Page.ALL)\n",
    "WebDriverWait(driver, 30).until(EC.presence_of_element_located((By.XPATH, '/html/body/div[2]/div[1]/div/div[3]/div/div')))\n",
    "while True:\n",
    "    html = driver.page_source\n",
    "    with open(os.path.join(outdir, \"all\", str(i) + \".html\"), \"w\") as f:\n",
    "        f.write(html)\n",
    "    i += 1\n",
    "    try:\n",
    "        driver.find_element_by_xpath('/html/body/div[2]/div[1]/div/div[3]/div/div/a[text() = \">\"]').click()\n",
    "        WebDriverWait(driver, 30).until(EC.presence_of_element_located((By.XPATH, '/html/body/div[@class = \"loadingImage\" and @class != \"visible\"]')))\n",
    "    except:\n",
    "        break\n",
    "\n",
    "move_page(driver, Page.LATEST)\n",
    "WebDriverWait(driver, 30).until(EC.presence_of_element_located((By.XPATH, '/html/body/div[2]/div[1]/div/div[3]/div/div'))) \n",
    "while True:\n",
    "    html = driver.page_source\n",
    "    with open(os.path.join(outdir, \"all\", str(i) + \".html\"), \"w\") as f:\n",
    "        f.write(html)\n",
    "    i += 1\n",
    "    try:\n",
    "        driver.find_element_by_xpath('/html/body/div[2]/div[1]/div/div[3]/div/div/a[text() = \">\"]').click()\n",
    "        WebDriverWait(driver, 30).until(EC.presence_of_element_located((By.XPATH, '/html/body/div[@class = \"loadingImage\" and @class != \"visible\"]')))\n",
    "    except:\n",
    "        break\n"
   ]
  },
  {
   "cell_type": "code",
   "execution_count": 45,
   "metadata": {},
   "outputs": [],
   "source": [
    "os.makedirs(os.path.join(outdir, \"rep\"), exist_ok=True)\n",
    "\n",
    "i = 1\n",
    "\n",
    "move_page(driver, Page.REPR)\n",
    "WebDriverWait(driver, 30).until(EC.presence_of_element_located((By.XPATH, '/html/body/div[2]/div[1]/div/div[3]/div/div')))\n",
    "while True:\n",
    "    html = driver.page_source\n",
    "    with open(os.path.join(outdir, \"rep\", str(i) + \".html\"), \"w\") as f:\n",
    "        f.write(html)\n",
    "    i += 1\n",
    "    try:\n",
    "        driver.find_element_by_xpath('/html/body/div[2]/div[1]/div/div[3]/div/div/a[text() = \">\"]').click()\n",
    "        WebDriverWait(driver, 30).until(EC.presence_of_element_located((By.XPATH, '/html/body/div[@class = \"loadingImage\" and @class != \"visible\"]')))\n",
    "    except:\n",
    "        break"
   ]
  },
  {
   "cell_type": "code",
   "execution_count": null,
   "metadata": {},
   "outputs": [],
   "source": []
  }
 ],
 "metadata": {
  "kernelspec": {
   "display_name": "Python 3",
   "language": "python",
   "name": "python3"
  },
  "language_info": {
   "codemirror_mode": {
    "name": "ipython",
    "version": 3
   },
   "file_extension": ".py",
   "mimetype": "text/x-python",
   "name": "python",
   "nbconvert_exporter": "python",
   "pygments_lexer": "ipython3",
   "version": "3.6.12-final"
  }
 },
 "nbformat": 4,
 "nbformat_minor": 4
}